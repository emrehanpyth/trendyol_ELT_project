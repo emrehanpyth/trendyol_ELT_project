{
 "cells": [
  {
   "cell_type": "code",
   "execution_count": 1,
   "id": "b59c8166",
   "metadata": {},
   "outputs": [
    {
     "name": "stdout",
     "output_type": "stream",
     "text": [
      "Transform edilmiş veriler transformed_data_.csv dosyasına kaydedildi.\n",
      "Veriler 'trendyol_laptop.db' veritabanındaki 'Laptop' tablosuna yüklendi.\n"
     ]
    }
   ],
   "source": [
    "import pandas as pd\n",
    "import sqlite3\n",
    "from Transform import load_to_db"
   ]
  },
  {
   "cell_type": "code",
   "execution_count": 2,
   "id": "519d88e4",
   "metadata": {},
   "outputs": [],
   "source": [
    "conn = sqlite3.connect('trendyol_laptop.db')\n",
    "table_name = 'Laptop'"
   ]
  },
  {
   "cell_type": "code",
   "execution_count": 3,
   "id": "79eda48d",
   "metadata": {},
   "outputs": [
    {
     "name": "stdout",
     "output_type": "stream",
     "text": [
      "      Brand                                            product  Price_TRY\n",
      "0   MONSTER  Markut M7 V6.1.2 Intel Core I9 13980hx 64 Gb R...     218999\n",
      "1      DELL  Precision M7780 XCTOP7780EMEA-VP2A10 i9-13950H...     216549\n",
      "2   MONSTER  Markut M7 V6.1 Intel Core I9 13980hx 32 Gb Ram...     210999\n",
      "3    LENOVO  Legion 9/ Core i9-13980HX/ GeForce RTX 4080/ 3...     190000\n",
      "4    LENOVO  ThinkPad P16 21FA0005TX11 i9-13980HX 128GB 2TB...     183929\n",
      "5    LENOVO  Legion Pro 7 Intel Core i9-14900HX 32Gb 1TB Nv...     179999\n",
      "6      ASUS  Rog Zephyrus G16 Core Ultra 9 185H-RTX4090 16G...     179899\n",
      "7     RAZER  Blade 18 İntel Core i9-13950HX 32GB DDR5 2TB S...     174900\n",
      "8      ASUS  UX582ZM-H2036W INTEL / I7-12700 / 32GB / 1TB /...     173399\n",
      "9      ASUS  G834JYR-R6101W/ Core I914900HX/ 32GB Ram/ 2TB ...     171900\n",
      "10     DELL  Precision M5690 XCTOP5690EMEA-VP2A6 Ultra9 185...     165869\n",
      "11     DELL  Precision M5690 XCTOP5690EMEA-VP2A5 Ultra9 185...     163019\n",
      "12     ASUS  Rog Strix Scar 18 G834jyr-n6098 16gb Rtx4090 1...     162999\n",
      "13     ASUS  ROG Zephyrus G16 GU605 GU605MY-OLED019 16GB RT...     162999\n",
      "14   LENOVO  Yoga Pro 9/ Core i9-13905H/ GeForce RTX 4070/ ...     162800\n"
     ]
    }
   ],
   "source": [
    "query_statement1 = f\"\"\"\n",
    "SELECT Brand,\n",
    "        Product,\n",
    "        Price_TRY\n",
    "FROM Laptop\n",
    "ORDER BY Price_TRY DESC\n",
    "LIMIT 15\n",
    "\"\"\"\n",
    "query_output1 = pd.read_sql(query_statement1, conn)\n",
    "print(query_output1)"
   ]
  },
  {
   "cell_type": "code",
   "execution_count": 4,
   "id": "cf86a040",
   "metadata": {},
   "outputs": [
    {
     "name": "stdout",
     "output_type": "stream",
     "text": [
      "    Brand                                            product  Price_TRY\n",
      "0  QUADRO  Novabook Gn15-140p-cj N4020 4gb 128gb Uyumlu W...       7069\n",
      "1    ONDA  Olilver A1 N5030 8gb Ram 128gb Ssd 10.1\" Lapto...       7248\n",
      "2    ACER  Chromebook 315 Cb315-3h Intel Celeron N4020 İş...       7499\n",
      "3  QUADRO  Novabook Gn15-140P-Cj N4020 4Gb 128Gb Windows ...       7499\n",
      "4  LENOVO  IdeaPad1 Intel Celeron N4020 4GB 128GB SSD Win...       7535\n",
      "5  LENOVO  IdeaPad1 Intel Celeron N4020 4GB 128GB SSD Win...       7535\n",
      "6  LENOVO  IdeaPad1 Intel Celeron N4020 4GB 128GB SSD Win...       7535\n",
      "7  LENOVO  IdeaPad1 Intel Celeron N4020 4GB 128GB SSD Win...       7535\n",
      "8  LENOVO  IdeaPad1 Intel Celeron N4020 4GB 128GB SSD Win...       7535\n",
      "9  LENOVO  IdeaPad1 Intel Celeron N4020 4GB 128GB SSD Win...       7535\n"
     ]
    }
   ],
   "source": [
    "query_statement2 = f\"\"\"\n",
    "select Brand,\n",
    "       Product,\n",
    "       Price_TRY\n",
    "from Laptop\n",
    "order by Price_TRY ASC\n",
    "limit 10\n",
    "\"\"\"\n",
    "query_output2 = pd.read_sql(query_statement2, conn)\n",
    "print(query_output2)"
   ]
  },
  {
   "cell_type": "code",
   "execution_count": 5,
   "id": "0e975850",
   "metadata": {},
   "outputs": [
    {
     "name": "stdout",
     "output_type": "stream",
     "text": [
      "     Brand                                            product  Price_TRY\n",
      "0  MONSTER  Markut M7 V6.1.2 Intel Core I9 13980hx 64 Gb R...     218999\n",
      "1   QUADRO  Novabook Gn15-140p-cj N4020 4gb 128gb Uyumlu W...       7069\n"
     ]
    }
   ],
   "source": [
    "query_statement3 = f\"\"\"\n",
    "SELECT Brand, product, Price_TRY\n",
    "FROM Laptop l\n",
    "WHERE Price_TRY = (\n",
    "    SELECT MAX(Price_TRY)\n",
    "    FROM Laptop\n",
    ")\n",
    "OR  Price_TRY = (\n",
    "    SELECT MIN(Price_TRY)\n",
    "    FROM Laptop\n",
    ")\n",
    "ORDER BY Price_TRY DESC;\n",
    "\"\"\"\n",
    "\n",
    "query_output3 = pd.read_sql(query_statement3, conn)\n",
    "print(query_output3)"
   ]
  },
  {
   "cell_type": "code",
   "execution_count": 6,
   "id": "f3942c70",
   "metadata": {},
   "outputs": [
    {
     "name": "stdout",
     "output_type": "stream",
     "text": [
      "        Brand     AVG_Price  AVG_Rating\n",
      "0   MICROSOFT  88235.000000    5.000000\n",
      "1     MONSTER  48766.529197    4.603504\n",
      "2       HONOR  32499.000000    4.600000\n",
      "3        DELL  31469.214981    4.592809\n",
      "4       APPLE  29593.508666    4.748154\n",
      "5         MSI  26361.410661    4.697748\n",
      "6      CASPER  26312.537340    4.336334\n",
      "7        ACER  22838.604371    4.497249\n",
      "8      HUAWEI  20102.300613    4.798006\n",
      "9     TOSHIBA  16900.000000    4.000000\n",
      "10       ASUS  16666.324213    4.504241\n",
      "11     LENOVO  15095.541482    4.598231\n",
      "12     QUADRO  13799.000000    1.000000\n",
      "13         HP  11216.908351    4.572581\n"
     ]
    }
   ],
   "source": [
    "query_statement4 = f\"\"\"\n",
    "select Brand, \n",
    "       AVG(Price_TRY) as AVG_Price,\n",
    "       AVG(Rating_Score) as AVG_Rating\n",
    "from Laptop \n",
    "where Rating_Score > 0\n",
    "group by Brand\n",
    "order by AVG_Price DESC\n",
    "\"\"\"\n",
    "query_output4 = pd.read_sql(query_statement4, conn)\n",
    "print(query_output4)"
   ]
  },
  {
   "cell_type": "code",
   "execution_count": 7,
   "id": "6f24da06",
   "metadata": {},
   "outputs": [
    {
     "name": "stdout",
     "output_type": "stream",
     "text": [
      "        Brand  max_price  min_price\n",
      "0        ACER      63599       7499\n",
      "1       APPLE     159999      28499\n",
      "2     ARÇELIK      40999      40999\n",
      "3        ASUS     179899       7844\n",
      "4      CASPER     150099       8936\n",
      "5        DELL     216549      10800\n",
      "6    GIGABYTE     117348      46699\n",
      "7       HONOR      32999      31999\n",
      "8          HP     129999       9344\n",
      "9      HUAWEI      79999      19851\n",
      "10     LENOVO     190000       7535\n",
      "11  MICROSOFT     124250      51485\n",
      "12    MONSTER     218999      24599\n",
      "13        MSI     144990      15649\n",
      "14       ONDA       7248       7248\n",
      "15     QUADRO      41899       7069\n",
      "16      RAZER     174900      85990\n",
      "17    TOSHIBA      39576      16900\n"
     ]
    }
   ],
   "source": [
    "query_statement5 = f\"\"\"\n",
    "select Brand,\n",
    "       MAX(Price_TRY) as max_price,\n",
    "       MIN(Price_TRY) as min_price\n",
    "from Laptop\n",
    "group by Brand\n",
    "\"\"\"\n",
    "query_output5 = pd.read_sql(query_statement5, conn)\n",
    "print(query_output5)"
   ]
  },
  {
   "cell_type": "code",
   "execution_count": 8,
   "id": "bd78b9aa",
   "metadata": {},
   "outputs": [
    {
     "name": "stdout",
     "output_type": "stream",
     "text": [
      "        Brand  Rating_Score\n",
      "0      LENOVO           5.0\n",
      "1      HUAWEI           4.8\n",
      "2          HP           4.8\n",
      "3         MSI           4.7\n",
      "4       APPLE           4.7\n",
      "5     MONSTER           4.6\n",
      "6       HONOR           4.6\n",
      "7        DELL           4.6\n",
      "8        ASUS           4.5\n",
      "9      CASPER           4.2\n",
      "10       ACER           4.2\n",
      "11    TOSHIBA           4.0\n",
      "12      RAZER           0.0\n",
      "13     QUADRO           0.0\n",
      "14  MICROSOFT           0.0\n",
      "15   GIGABYTE           0.0\n"
     ]
    }
   ],
   "source": [
    "query_statement6 = f\"\"\"\n",
    "select Brand,\n",
    "       Rating_Score\n",
    "from Laptop\n",
    "group by Brand\n",
    "having COUNT(Product) > 1\n",
    "order by Rating_Score desc\n",
    "\"\"\"\n",
    "query_output6 = pd.read_sql(query_statement6, conn)\n",
    "print(query_output6)"
   ]
  },
  {
   "cell_type": "code",
   "execution_count": 9,
   "id": "3a1ad713",
   "metadata": {},
   "outputs": [
    {
     "name": "stdout",
     "output_type": "stream",
     "text": [
      "        Brand  TOTAL_PRODUCT  MARKET_SHARE\n",
      "0      LENOVO           9722     29.137445\n",
      "1          HP           6872     20.595816\n",
      "2      CASPER           4054     12.150093\n",
      "3        ACER           2760      8.271894\n",
      "4       APPLE           2687      8.053108\n",
      "5        ASUS           1663      4.984116\n",
      "6        DELL           1486      4.453635\n",
      "7     MONSTER           1407      4.216867\n",
      "8         MSI           1378      4.129953\n",
      "9      HUAWEI           1310      3.926152\n",
      "10      RAZER              7      0.020979\n",
      "11  MICROSOFT              6      0.017982\n",
      "12     QUADRO              5      0.014985\n",
      "13   GIGABYTE              3      0.008991\n",
      "14      HONOR              2      0.005994\n",
      "15    TOSHIBA              2      0.005994\n",
      "16    ARÇELIK              1      0.002997\n",
      "17       ONDA              1      0.002997\n"
     ]
    }
   ],
   "source": [
    "query_statement8 = f\"\"\"\n",
    "WITH BrandCount AS (\n",
    "    SELECT Brand, COUNT(product) AS TOTAL_PRODUCT\n",
    "    FROM Laptop\n",
    "    GROUP BY Brand\n",
    "),\n",
    "TotalCount AS (\n",
    "    SELECT COUNT(product) AS TOTAL_PRODUCTS\n",
    "    FROM Laptop\n",
    ")\n",
    "SELECT \n",
    "    b.Brand,\n",
    "    b.TOTAL_PRODUCT,\n",
    "    (b.TOTAL_PRODUCT * 100.0 / t.TOTAL_PRODUCTS) AS MARKET_SHARE\n",
    "FROM BrandCount b, TotalCount t\n",
    "ORDER BY MARKET_SHARE DESC\n",
    "\"\"\"\n",
    "\n",
    "query_output8 = pd.read_sql(query_statement8, conn)\n",
    "print(query_output8)"
   ]
  },
  {
   "cell_type": "code",
   "execution_count": 10,
   "id": "5ceda8d7",
   "metadata": {},
   "outputs": [
    {
     "name": "stdout",
     "output_type": "stream",
     "text": [
      "      Brand       Price_Range  Number_of_Product\n",
      "0      ACER  Little expensive                 16\n",
      "1      ACER           Not bad                 45\n",
      "2      ACER        Reasonable               1380\n",
      "3      ACER             cheap               1319\n",
      "4     APPLE         Expensive                 22\n",
      "..      ...               ...                ...\n",
      "58   QUADRO             cheap                  4\n",
      "59    RAZER         Expensive                  6\n",
      "60    RAZER     Too expensive                  1\n",
      "61  TOSHIBA           Not bad                  1\n",
      "62  TOSHIBA        Reasonable                  1\n",
      "\n",
      "[63 rows x 3 columns]\n"
     ]
    }
   ],
   "source": [
    "query_statement9 = f\"\"\"\n",
    "SELECT \n",
    "    Brand,\n",
    "    CASE \n",
    "        WHEN Price_TRY < 15000 THEN 'cheap'\n",
    "        WHEN Price_TRY >= 15000 AND Price_TRY < 25000 THEN 'Not bad'\n",
    "        WHEN Price_TRY >= 25000 AND Price_TRY < 45000 THEN 'Reasonable'\n",
    "        WHEN Price_TRY >= 45000 AND Price_TRY < 80000 THEN 'Little expensive'\n",
    "        WHEN Price_TRY >= 80000 AND Price_TRY < 130000 THEN 'Expensive'\n",
    "        ELSE 'Too expensive'\n",
    "    END AS \"Price_Range\",\n",
    "    COUNT(*) AS \"Number_of_Product\"\n",
    "FROM laptop\n",
    "GROUP BY Brand, \"Price_Range\"\n",
    "ORDER BY Brand, \"Price_Range\"\n",
    "\"\"\"\n",
    "query_output9 = pd.read_sql(query_statement9, conn)\n",
    "print(query_output9)"
   ]
  },
  {
   "cell_type": "code",
   "execution_count": 11,
   "id": "6578decd",
   "metadata": {
    "scrolled": true
   },
   "outputs": [
    {
     "name": "stdout",
     "output_type": "stream",
     "text": [
      "        Brand  Max_Price\n",
      "0        ACER      63599\n",
      "1       APPLE     159999\n",
      "2     ARÇELIK      40999\n",
      "3        ASUS     179899\n",
      "4      CASPER     150099\n",
      "5        DELL     216549\n",
      "6    GIGABYTE     117348\n",
      "7       HONOR      32999\n",
      "8          HP     129999\n",
      "9      HUAWEI      79999\n",
      "10     LENOVO     190000\n",
      "11  MICROSOFT     124250\n",
      "12    MONSTER     218999\n",
      "13        MSI     144990\n",
      "14       ONDA       7248\n",
      "15     QUADRO      41899\n",
      "16      RAZER     174900\n",
      "17    TOSHIBA      39576\n"
     ]
    }
   ],
   "source": [
    "query_statement10 = f\"\"\"\n",
    "SELECT Brand, MAX(Price_TRY) as Max_Price\n",
    "FROM Laptop\n",
    "GROUP BY Brand;\n",
    "\"\"\"\n",
    "print(pd.read_sql(query_statement10, conn))"
   ]
  },
  {
   "cell_type": "code",
   "execution_count": 12,
   "id": "c1742a59",
   "metadata": {},
   "outputs": [
    {
     "name": "stdout",
     "output_type": "stream",
     "text": [
      "        Brand  Min_Price\n",
      "0        ACER       7499\n",
      "1       APPLE      28499\n",
      "2     ARÇELIK      40999\n",
      "3        ASUS       7844\n",
      "4      CASPER       8936\n",
      "5        DELL      10800\n",
      "6    GIGABYTE      46699\n",
      "7       HONOR      31999\n",
      "8          HP       9344\n",
      "9      HUAWEI      19851\n",
      "10     LENOVO       7535\n",
      "11  MICROSOFT      51485\n",
      "12    MONSTER      24599\n",
      "13        MSI      15649\n",
      "14       ONDA       7248\n",
      "15     QUADRO       7069\n",
      "16      RAZER      85990\n",
      "17    TOSHIBA      16900\n"
     ]
    }
   ],
   "source": [
    "query_statement11 = \"\"\"\n",
    "SELECT Brand, MIN(Price_TRY) as Min_Price\n",
    "FROM Laptop\n",
    "GROUP BY Brand;\n",
    "\"\"\"\n",
    "print(pd.read_sql(query_statement11, conn))"
   ]
  },
  {
   "cell_type": "code",
   "execution_count": null,
   "id": "f3618ea0",
   "metadata": {},
   "outputs": [],
   "source": []
  }
 ],
 "metadata": {
  "kernelspec": {
   "display_name": "Python 3 (ipykernel)",
   "language": "python",
   "name": "python3"
  },
  "language_info": {
   "codemirror_mode": {
    "name": "ipython",
    "version": 3
   },
   "file_extension": ".py",
   "mimetype": "text/x-python",
   "name": "python",
   "nbconvert_exporter": "python",
   "pygments_lexer": "ipython3",
   "version": "3.9.13"
  }
 },
 "nbformat": 4,
 "nbformat_minor": 5
}
